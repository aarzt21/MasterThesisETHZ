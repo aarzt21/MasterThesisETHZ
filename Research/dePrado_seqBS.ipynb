{
 "cells": [
  {
   "cell_type": "markdown",
   "id": "intense-maximum",
   "metadata": {},
   "source": [
    "Alex - Reasearch - 11. 3. 21\n",
    "\n",
    "## de Prado: Sequential Bootstrapping\n",
    "\n",
    "The purpose of this notebook is to illustrate de Prado's concept of sequential bootstrapping and compare it later to Chan's approach.\n",
    "The problem in financial applications is that observations are not iid. Unfortunately, most ML algos rely on the iid assumption.\n"
   ]
  },
  {
   "cell_type": "markdown",
   "id": "optical-revolution",
   "metadata": {},
   "source": [
    "#### Context \n",
    "\n",
    "We know that de Prado uses the triple barrier method to label the samples. Each label in a triple barrier event has a label index (can be interpreted as when the trade was opened) and a label end time (when the first barrier was touched - can be interpreted as when the label was closed). \n",
    "\n",
    "Let's look at an example of 3 samples and assume that: \n",
    "\n",
    "- sample A was generated at $t_1$ and first barrier was touched at $t_8$\n",
    "- sample B was generated at $t_3$ and first barrier was touched at $t_6$\n",
    "- sample C was generated at $t_7$ and first barrier was touched at $t_9$\n"
   ]
  },
  {
   "cell_type": "markdown",
   "id": "simplified-berlin",
   "metadata": {},
   "source": [
    "So A's label is a function of price returns on $[t_1, t_8]$, which overlaps with with $[t_3, t_6]$ used by B. Hence A uses information from B. A also has an on overlap with C. \n",
    "\n",
    "De Prado says that labels $y_i$ and $y_j$ are concurrent at $t$ if they are a function of at least on common\n",
    "return at $r_{t-1,t}$.\n",
    "\n",
    "So in terms of concurrency: A is the \"dirtiest\" as it uses information from B and C. While C is the \"purest\" as it doesn't any information from B or A. By using the average label uniqueness we can measure how \"pure\" our data set is based on concurrency of the labels.  **It is desirable to use a data set that has the least amount of overlap (i.e. is very \"pure\") to train an algorithm so that we get as close to the iid assumption as possible**. "
   ]
  },
  {
   "cell_type": "markdown",
   "id": "suspected-internship",
   "metadata": {},
   "source": [
    "#### Sampling with replacement\n",
    "\n",
    "Bagging algos such as RF bootstrap oberservations. However, if many observations overlap with one another (i.e. we have low average label uniqueness) then bootstrapping will likely create samples which have redundancy. This makes RF's inefficient because in-bag observations will be very similar to out-of-bag ones, which will inflate the out-of-bag accuracy. The solution to the concurrency problem is Sequential Bootstrapping.\n",
    "\n",
    "\n",
    "#### Sequential bootstraping\n",
    "\n",
    "In the first draw, an observation is drawn from the uniform distribution. For the second draw, the sequential bootstrap (SB) reduces the probability of the observation that was drawn earlier from being drawn again. This process continues until the required number of draws are made. To implement this scheme, we first need to determine all the bars that a label (of an observation) uses. We compute a binary matrix that has bars on one axis and the labels on the other (this is called indicator matrix). This matrix is then used to compute the the average uniqueness of each observation.\n",
    "\n",
    "The sequential bootstrap process iteratively selects observations while adjusting the draw probabilities of each observation at each step of the loop.\n",
    "\n",
    "#### SBRandom Forest\n",
    "\n",
    "As explained, sequential bootstrapping can be used to make the data set more \"pure\". The next step would be to combine a random forest with sequential bootstrapping to increase the quality of the model. "
   ]
  },
  {
   "cell_type": "markdown",
   "id": "reverse-barcelona",
   "metadata": {},
   "source": [
    "#### Illustration"
   ]
  },
  {
   "cell_type": "code",
   "execution_count": 52,
   "id": "strange-bangladesh",
   "metadata": {},
   "outputs": [],
   "source": [
    "# import all the necessary stuff\n",
    "\n",
    "import numpy as np\n",
    "import pandas as pd\n",
    "import matplotlib.pyplot as plt\n",
    "\n",
    "from sklearn.utils import shuffle\n",
    "from sklearn.ensemble import RandomForestClassifier\n",
    "from sklearn.model_selection import KFold\n",
    "from sklearn.model_selection import train_test_split\n",
    "\n",
    "from sklearn.metrics import roc_curve\n",
    "from sklearn.metrics import classification_report\n",
    "from sklearn.metrics import confusion_matrix\n",
    "from sklearn.metrics import accuracy_score\n",
    "\n",
    "from sklearn.model_selection import cross_val_score\n",
    "from sklearn.model_selection import KFold\n",
    "from sklearn.model_selection import GridSearchCV\n",
    "\n",
    "from mlfinlab.filters import filters\n",
    "from mlfinlab.labeling import labeling\n",
    "#from mlfinlab.util import utils\n",
    "\n",
    "from mlfinlab.sampling import concurrent\n",
    "from mlfinlab.sampling import bootstrapping\n",
    "from mlfinlab.util import multiprocess\n",
    "\n",
    "\n"
   ]
  },
  {
   "cell_type": "code",
   "execution_count": 53,
   "id": "dutch-mustang",
   "metadata": {},
   "outputs": [],
   "source": [
    "%matplotlib inline"
   ]
  },
  {
   "cell_type": "code",
   "execution_count": 54,
   "id": "valued-castle",
   "metadata": {},
   "outputs": [
    {
     "name": "stdout",
     "output_type": "stream",
     "text": [
      "date_time\n",
      "2011-07-31 23:31:58.810    1305.75\n",
      "2011-08-01 02:55:17.443    1306.50\n",
      "2011-08-01 07:25:56.319    1305.00\n",
      "2011-08-01 08:33:10.903    1300.00\n",
      "2011-08-01 10:51:41.842    1307.75\n",
      "Name: close, dtype: float64\n",
      "-----------------\n",
      "\n",
      "No of NANs: 0\n"
     ]
    }
   ],
   "source": [
    "# Read in data\n",
    "# data = pd.read_csv('official_data/dollar_bars.csv', nrows=40000)\n",
    "data = pd.read_csv('C:/Users/axarz/Desktop/Thesis/sample_dollar_bars.csv')\n",
    "\n",
    "data.index = pd.to_datetime(data['date_time'])\n",
    "data = data.drop('date_time', axis=1)\n",
    "close_prices = data['close']\n",
    "\n",
    "print(close_prices.head())\n",
    "print(\"-----------------\")\n",
    "print('\\nNo of NANs: {:}'.format(close_prices.isna().sum()))"
   ]
  },
  {
   "cell_type": "code",
   "execution_count": 55,
   "id": "median-handbook",
   "metadata": {},
   "outputs": [
    {
     "data": {
      "text/plain": [
       "date_time\n",
       "2011-08-01 23:41:59.859         NaN\n",
       "2011-08-02 06:46:46.576    0.003240\n",
       "2011-08-02 07:31:03.237    0.003251\n",
       "2011-08-02 09:07:37.276    0.002876\n",
       "2011-08-02 10:52:48.191    0.003222\n",
       "Name: close, dtype: float64"
      ]
     },
     "execution_count": 55,
     "metadata": {},
     "output_type": "execute_result"
    }
   ],
   "source": [
    "# Compute daily volatility\n",
    "vol = mlfinlab.util.volatility.get_daily_vol(close=close_prices, lookback=50)\n",
    "\n",
    "vol.head()"
   ]
  },
  {
   "cell_type": "code",
   "execution_count": 56,
   "id": "thousand-craft",
   "metadata": {},
   "outputs": [
    {
     "data": {
      "text/html": [
       "<div>\n",
       "<style scoped>\n",
       "    .dataframe tbody tr th:only-of-type {\n",
       "        vertical-align: middle;\n",
       "    }\n",
       "\n",
       "    .dataframe tbody tr th {\n",
       "        vertical-align: top;\n",
       "    }\n",
       "\n",
       "    .dataframe thead th {\n",
       "        text-align: right;\n",
       "    }\n",
       "</style>\n",
       "<table border=\"1\" class=\"dataframe\">\n",
       "  <thead>\n",
       "    <tr style=\"text-align: right;\">\n",
       "      <th></th>\n",
       "      <th>t1</th>\n",
       "      <th>trgt</th>\n",
       "      <th>pt</th>\n",
       "      <th>sl</th>\n",
       "    </tr>\n",
       "  </thead>\n",
       "  <tbody>\n",
       "    <tr>\n",
       "      <th>2011-08-04 01:57:00.466</th>\n",
       "      <td>2011-08-04 10:27:24.326</td>\n",
       "      <td>0.011841</td>\n",
       "      <td>1</td>\n",
       "      <td>1</td>\n",
       "    </tr>\n",
       "    <tr>\n",
       "      <th>2011-08-04 09:53:01.844</th>\n",
       "      <td>2011-08-04 13:50:40.606</td>\n",
       "      <td>0.011918</td>\n",
       "      <td>1</td>\n",
       "      <td>1</td>\n",
       "    </tr>\n",
       "    <tr>\n",
       "      <th>2011-08-04 19:30:23.101</th>\n",
       "      <td>2011-08-04 20:01:48.966</td>\n",
       "      <td>0.010392</td>\n",
       "      <td>1</td>\n",
       "      <td>1</td>\n",
       "    </tr>\n",
       "    <tr>\n",
       "      <th>2011-08-04 19:59:41.879</th>\n",
       "      <td>2011-08-05 12:30:19.803</td>\n",
       "      <td>0.013613</td>\n",
       "      <td>1</td>\n",
       "      <td>1</td>\n",
       "    </tr>\n",
       "    <tr>\n",
       "      <th>2011-08-05 12:30:19.803</th>\n",
       "      <td>2011-08-05 13:51:55.449</td>\n",
       "      <td>0.013697</td>\n",
       "      <td>1</td>\n",
       "      <td>1</td>\n",
       "    </tr>\n",
       "  </tbody>\n",
       "</table>\n",
       "</div>"
      ],
      "text/plain": [
       "                                             t1      trgt  pt  sl\n",
       "2011-08-04 01:57:00.466 2011-08-04 10:27:24.326  0.011841   1   1\n",
       "2011-08-04 09:53:01.844 2011-08-04 13:50:40.606  0.011918   1   1\n",
       "2011-08-04 19:30:23.101 2011-08-04 20:01:48.966  0.010392   1   1\n",
       "2011-08-04 19:59:41.879 2011-08-05 12:30:19.803  0.013613   1   1\n",
       "2011-08-05 12:30:19.803 2011-08-05 13:51:55.449  0.013697   1   1"
      ]
     },
     "execution_count": 56,
     "metadata": {},
     "output_type": "execute_result"
    }
   ],
   "source": [
    "# Apply Symmetric CUSUM Filter and get timestamps for events\n",
    "# Note: Only the CUSUM filter needs a point estimate for volatility\n",
    "cusum_events = filters.cusum_filter(close_prices, threshold=vol.mean())\n",
    "\n",
    "\n",
    "# Compute vertical barrier\n",
    "vertical_barriers = labeling.add_vertical_barrier(cusum_events, close_prices, num_days=1)\n",
    "vertical_barriers.head()\n",
    "\n",
    "triple_barrier_events = labeling.get_events(close=close_prices,\n",
    "                                               t_events=cusum_events,\n",
    "                                               pt_sl=[1, 1],\n",
    "                                               target=vol,\n",
    "                                               min_ret=0.01,\n",
    "                                               num_threads=1,\n",
    "                                               vertical_barrier_times=vertical_barriers,\n",
    "                                               side_prediction=None)\n",
    "\n",
    "\n",
    "triple_barrier_events.head()"
   ]
  },
  {
   "cell_type": "markdown",
   "id": "selective-growing",
   "metadata": {},
   "source": [
    "Now get ave. uniquness of the whole data set. "
   ]
  },
  {
   "cell_type": "code",
   "execution_count": 80,
   "id": "corporate-verse",
   "metadata": {},
   "outputs": [
    {
     "name": "stderr",
     "output_type": "stream",
     "text": [
      "2021-03-11 15:12:01.710474 100.0% num_concurrent_events done after 0.09 minutes. Remaining 0.0 minutes..\n",
      "2021-03-11 15:12:09.304686 100.0% _get_average_uniqueness done after 0.08 minutes. Remaining 0.0 minutes..\n"
     ]
    },
    {
     "data": {
      "text/plain": [
       "tW    0.278286\n",
       "dtype: float64"
      ]
     },
     "execution_count": 80,
     "metadata": {},
     "output_type": "execute_result"
    }
   ],
   "source": [
    "av_unique = get_av_uniqueness_from_triple_barrier(triple_barrier_events, close_prices, num_threads=3)\n",
    "av_unique.mean()"
   ]
  },
  {
   "cell_type": "markdown",
   "id": "crude-rescue",
   "metadata": {},
   "source": [
    "**We would like to build our a RF such that the av_unique is as high as possible So that means during the bootstrap we want to choose labels that are non-concurrent.** And we do that with the sequential bootstrap. "
   ]
  },
  {
   "cell_type": "markdown",
   "id": "variable-prime",
   "metadata": {},
   "source": [
    "Let's assume that:\n",
    "\n",
    "- $y_0$ is a function of return $r_{0,2}$\n",
    "- $y_1$ is a function of return $r_{2,3}$\n",
    "- $y_2$ is a function of return $r_{4,5}$\n",
    "\n",
    "The first thing we need to do is build an indicator matrix. Cols of that matrix are the samples and rows are the price returns"
   ]
  },
  {
   "cell_type": "code",
   "execution_count": 83,
   "id": "legitimate-difficulty",
   "metadata": {},
   "outputs": [
    {
     "data": {
      "text/html": [
       "<div>\n",
       "<style scoped>\n",
       "    .dataframe tbody tr th:only-of-type {\n",
       "        vertical-align: middle;\n",
       "    }\n",
       "\n",
       "    .dataframe tbody tr th {\n",
       "        vertical-align: top;\n",
       "    }\n",
       "\n",
       "    .dataframe thead th {\n",
       "        text-align: right;\n",
       "    }\n",
       "</style>\n",
       "<table border=\"1\" class=\"dataframe\">\n",
       "  <thead>\n",
       "    <tr style=\"text-align: right;\">\n",
       "      <th></th>\n",
       "      <th>0</th>\n",
       "      <th>1</th>\n",
       "      <th>2</th>\n",
       "    </tr>\n",
       "  </thead>\n",
       "  <tbody>\n",
       "    <tr>\n",
       "      <th>0</th>\n",
       "      <td>1</td>\n",
       "      <td>0</td>\n",
       "      <td>0</td>\n",
       "    </tr>\n",
       "    <tr>\n",
       "      <th>1</th>\n",
       "      <td>1</td>\n",
       "      <td>0</td>\n",
       "      <td>0</td>\n",
       "    </tr>\n",
       "    <tr>\n",
       "      <th>2</th>\n",
       "      <td>1</td>\n",
       "      <td>1</td>\n",
       "      <td>0</td>\n",
       "    </tr>\n",
       "    <tr>\n",
       "      <th>3</th>\n",
       "      <td>0</td>\n",
       "      <td>1</td>\n",
       "      <td>0</td>\n",
       "    </tr>\n",
       "    <tr>\n",
       "      <th>4</th>\n",
       "      <td>0</td>\n",
       "      <td>0</td>\n",
       "      <td>1</td>\n",
       "    </tr>\n",
       "    <tr>\n",
       "      <th>5</th>\n",
       "      <td>0</td>\n",
       "      <td>0</td>\n",
       "      <td>1</td>\n",
       "    </tr>\n",
       "  </tbody>\n",
       "</table>\n",
       "</div>"
      ],
      "text/plain": [
       "   0  1  2\n",
       "0  1  0  0\n",
       "1  1  0  0\n",
       "2  1  1  0\n",
       "3  0  1  0\n",
       "4  0  0  1\n",
       "5  0  0  1"
      ]
     },
     "execution_count": 83,
     "metadata": {},
     "output_type": "execute_result"
    }
   ],
   "source": [
    "ind_mat = pd.DataFrame(index=range(0,6), columns=range(0,3))\n",
    "ind_mat.loc[:,0] = [1,1,1,0,0,0]\n",
    "ind_mat.loc[:,1] = [0,0,1,1,0,0]\n",
    "ind_mat.loc[:,2] = [0,0,0,0,1,1]\n",
    "ind_mat"
   ]
  },
  {
   "cell_type": "markdown",
   "id": "compound-procedure",
   "metadata": {},
   "source": [
    "(can use get_ind_mat from mlfinlab to build indicator matrix from triple barrier events)"
   ]
  },
  {
   "cell_type": "code",
   "execution_count": 96,
   "id": "blank-blues",
   "metadata": {},
   "outputs": [
    {
     "data": {
      "text/plain": [
       "array([[1., 0., 0., ..., 0., 0., 0.],\n",
       "       [1., 0., 0., ..., 0., 0., 0.],\n",
       "       [1., 0., 0., ..., 0., 0., 0.],\n",
       "       ...,\n",
       "       [0., 0., 0., ..., 1., 1., 1.],\n",
       "       [0., 0., 0., ..., 1., 1., 1.],\n",
       "       [0., 0., 0., ..., 1., 1., 1.]])"
      ]
     },
     "execution_count": 96,
     "metadata": {},
     "output_type": "execute_result"
    }
   ],
   "source": [
    "triple_barrier_events.dropna(axis=0, how='any', inplace=True)\n",
    "triple_barrier_ind_mat = get_ind_matrix(triple_barrier_events, close_prices)\n",
    "triple_barrier_ind_mat.shape\n",
    "triple_barrier_ind_mat"
   ]
  },
  {
   "cell_type": "code",
   "execution_count": 97,
   "id": "smoking-college",
   "metadata": {},
   "outputs": [
    {
     "data": {
      "text/plain": [
       "0.24778671523245813"
      ]
     },
     "execution_count": 97,
     "metadata": {},
     "output_type": "execute_result"
    }
   ],
   "source": [
    "# get ave label uniqueness with a function\n",
    "\n",
    "ind_mat_uniqueness = get_ind_mat_average_uniqueness(triple_barrier_ind_mat)\n",
    "ind_mat_uniqueness"
   ]
  },
  {
   "cell_type": "markdown",
   "id": "rural-responsibility",
   "metadata": {},
   "source": [
    "As you can see it's quite close to the values generated by get_av_uniqueness_from_triple_barrier function call"
   ]
  },
  {
   "cell_type": "markdown",
   "id": "meaningful-anderson",
   "metadata": {},
   "source": [
    "Let's go back to seq bs: \n",
    "\n",
    "In sequential bootstrapping we start with an empty array (phi) and loop through all samples to get the prob of choosing\n",
    "the sample based on ave uniqueness of reduced indicator matrix constructed from previously chosen columns+sample"
   ]
  },
  {
   "cell_type": "code",
   "execution_count": 121,
   "id": "innocent-estate",
   "metadata": {},
   "outputs": [
    {
     "name": "stdout",
     "output_type": "stream",
     "text": [
      "[1.  1.  0.5 0.  0.  0. ]\n",
      "[0.  0.  0.5 0.5 0.  0. ]\n",
      "[0. 0. 0. 0. 1. 1.]\n"
     ]
    }
   ],
   "source": [
    "ind_mat \n",
    "#Assume we have chosen 1 to be the sample in the first step\n",
    "phi = [1] # Sample chosen from the 1st step\n",
    "uniqueness_array = np.array([None, None, None])\n",
    "for i in range(0, 3):\n",
    "    ind_mat_reduced = ind_mat[:, phi + [i]] #give me the already chosen sample and the next one\n",
    "    label_uniqueness = bootstrapping.get_ind_mat_label_uniqueness(ind_mat_reduced)[-1]\n",
    "    print(label_uniqueness)\n",
    "    uniqueness_array[i] = (label_uniqueness[label_uniqueness > 0].mean())\n",
    "\n",
    "prob_array = uniqueness_array / sum(uniqueness_array)\n",
    "\n"
   ]
  },
  {
   "cell_type": "code",
   "execution_count": 118,
   "id": "acknowledged-union",
   "metadata": {},
   "outputs": [
    {
     "data": {
      "text/plain": [
       "array([0.35714285714285715, 0.21428571428571427, 0.42857142857142855],\n",
       "      dtype=object)"
      ]
     },
     "execution_count": 118,
     "metadata": {},
     "output_type": "execute_result"
    }
   ],
   "source": [
    "uniqueness_array\n",
    "prob_array"
   ]
  },
  {
   "cell_type": "markdown",
   "id": "relative-stocks",
   "metadata": {},
   "source": [
    "So probably the second chosen feature willl be 2 cuz it has the largest probability (0.428). As you can see now, the algo has chosen the two least concurrent labels (1 and 2) so far. "
   ]
  },
  {
   "cell_type": "markdown",
   "id": "ecological-monitor",
   "metadata": {},
   "source": [
    "If we run this algo further, we would see that sequential bootstrapping tries to minimize the probability of repeated samples. We can use the seq_bootstrap() to do it:"
   ]
  },
  {
   "cell_type": "code",
   "execution_count": 124,
   "id": "verbal-summit",
   "metadata": {},
   "outputs": [
    {
     "name": "stdout",
     "output_type": "stream",
     "text": [
      "[0.33333333 0.33333333 0.33333333]\n",
      "[0.35714286 0.21428571 0.42857143]\n",
      "[0.45454545 0.27272727 0.27272727]\n",
      "[0.5 0.3 0.2]\n"
     ]
    }
   ],
   "source": [
    "samples = seq_bootstrap(ind_mat, sample_length=4, warmup_samples=[1], verbose=True)"
   ]
  },
  {
   "cell_type": "code",
   "execution_count": 125,
   "id": "painful-jesus",
   "metadata": {},
   "outputs": [
    {
     "data": {
      "text/plain": [
       "[1, 2, 2, 0]"
      ]
     },
     "execution_count": 125,
     "metadata": {},
     "output_type": "execute_result"
    }
   ],
   "source": [
    "samples"
   ]
  },
  {
   "cell_type": "markdown",
   "id": "adjusted-showcase",
   "metadata": {},
   "source": [
    "Let's see how seq. b.s. increases the average label uniqueness:"
   ]
  },
  {
   "cell_type": "code",
   "execution_count": 127,
   "id": "liberal-sitting",
   "metadata": {},
   "outputs": [],
   "source": [
    "standard_unq_array = np.zeros(10000) * np.nan # Array of random sampling uniqueness\n",
    "seq_unq_array = np.zeros(10000) * np.nan # Array of Sequential Bootstapping uniqueness\n",
    "for i in range(0, 10000):\n",
    "    bootstrapped_samples = seq_bootstrap(ind_mat, sample_length=3)\n",
    "    random_samples = np.random.choice(ind_mat.shape[1], size=3)\n",
    "    \n",
    "    random_unq = get_ind_mat_average_uniqueness(ind_mat[:, random_samples])\n",
    "    random_unq_mean = random_unq[random_unq > 0].mean()\n",
    "\n",
    "    sequential_unq = get_ind_mat_average_uniqueness(ind_mat[:, bootstrapped_samples])\n",
    "    sequential_unq_mean = sequential_unq[sequential_unq > 0].mean()\n",
    "    \n",
    "    standard_unq_array[i] = random_unq_mean\n",
    "    seq_unq_array[i] = sequential_unq_mean"
   ]
  },
  {
   "cell_type": "code",
   "execution_count": 129,
   "id": "actual-mobility",
   "metadata": {},
   "outputs": [
    {
     "data": {
      "text/plain": [
       "(0.6666666666666666, 0.6666666666666666)"
      ]
     },
     "execution_count": 129,
     "metadata": {},
     "output_type": "execute_result"
    }
   ],
   "source": [
    "np.median(standard_unq_array), np.median(seq_unq_array)\n"
   ]
  },
  {
   "cell_type": "code",
   "execution_count": 130,
   "id": "living-arcade",
   "metadata": {},
   "outputs": [
    {
     "data": {
      "text/plain": [
       "(0.6438035714285714, 0.7049958333333333)"
      ]
     },
     "execution_count": 130,
     "metadata": {},
     "output_type": "execute_result"
    }
   ],
   "source": [
    "np.mean(standard_unq_array), np.mean(seq_unq_array)"
   ]
  },
  {
   "cell_type": "markdown",
   "id": "ranging-juice",
   "metadata": {},
   "source": [
    "KDE plots confirm that seq. b.s. gives higher ave. label uniqueness"
   ]
  },
  {
   "cell_type": "code",
   "execution_count": 134,
   "id": "successful-assumption",
   "metadata": {},
   "outputs": [
    {
     "data": {
      "text/plain": [
       "<matplotlib.axes._subplots.AxesSubplot at 0x2348c64fee0>"
      ]
     },
     "execution_count": 134,
     "metadata": {},
     "output_type": "execute_result"
    },
    {
     "data": {
      "image/png": "[encoded data removed]",
      "text/plain": [
       "<Figure size 432x288 with 1 Axes>"
      ]
     },
     "metadata": {
      "needs_background": "light"
     },
     "output_type": "display_data"
    }
   ],
   "source": [
    "sns.kdeplot(standard_unq_array, shade=True, label='Random Sampling')\n",
    "sns.kdeplot(seq_unq_array, shade=True, label='Sequential Sampling')"
   ]
  },
  {
   "cell_type": "markdown",
   "id": "annoying-printing",
   "metadata": {},
   "source": [
    "#### Take away\n",
    "- we know now how concurrency can make a data set impure\n",
    "- we know that seq. b.s. can help us tackling the concurrency problem: **It helps us to bootstrap samples that are closer to iid!**\n",
    "- next step is to combine the standard RF with seq. b.s. in order to improve the RF's performance"
   ]
  }
 ],
 "metadata": {
  "kernelspec": {
   "display_name": "Python 3",
   "language": "python",
   "name": "python3"
  },
  "language_info": {
   "codemirror_mode": {
    "name": "ipython",
    "version": 3
   },
   "file_extension": ".py",
   "mimetype": "text/x-python",
   "name": "python",
   "nbconvert_exporter": "python",
   "pygments_lexer": "ipython3",
   "version": "3.8.8"
  }
 },
 "nbformat": 4,
 "nbformat_minor": 5
}
